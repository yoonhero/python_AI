{
 "cells": [
  {
   "cell_type": "code",
   "execution_count": 96,
   "metadata": {},
   "outputs": [],
   "source": [
    "import speech_recognition as sr\n",
    "import pyaudio\n",
    "import pyttsx3\n",
    "import time\n",
    "import urllib\n",
    "import os\n",
    "import webbrowser\n",
    "\n",
    "import datetime\n",
    "import wikipedia\n",
    "\n",
    "engine = pyttsx3.init()\n",
    "engine.say(\"안녕하세요, 당신의 가상 비서입니다.\")\n",
    "  \n",
    "engine.runAndWait()\n",
    "time.sleep(3)\n",
    "\n",
    "\n",
    "r = sr.Recognizer()\n",
    "\n",
    "me = [\"나\", \"내\", \"\"]"
   ]
  },
  {
   "cell_type": "code",
   "execution_count": 97,
   "metadata": {},
   "outputs": [],
   "source": [
    "def speak(audio):\n",
    "    engine.say(audio) \n",
    "    engine.runAndWait() #Without this command, speech will not be audible to us."
   ]
  },
  {
   "cell_type": "code",
   "execution_count": 98,
   "metadata": {},
   "outputs": [],
   "source": [
    "def speechToText():\n",
    "    r = sr.Recognizer()\n",
    "    with sr.Microphone() as source:\n",
    "        print(\"Listening...\")\n",
    "        r.pause_threshold = 1\n",
    "        audio = r.listen(source)\n",
    "        '''word = r.recognize_google(audio, language=\"ko-kr\")\n",
    "        print(word)'''\n",
    "    try:\n",
    "        print(\"Recognizing...\")    \n",
    "        query = r.recognize_google(audio, language='ko-kr') #Using google for voice recognition.\n",
    "        print(f\"User said: {query}\\n\")  #User query will be printed.\n",
    "    except Exception as e:\n",
    "        # print(e)  use only if you want to print the error!\n",
    "        print(\"Say that again please...\")   #Say that again will be printed in case of improper voice \n",
    "        return \"None\" #None string will be returned\n",
    "    return query"
   ]
  },
  {
   "cell_type": "code",
   "execution_count": 99,
   "metadata": {},
   "outputs": [],
   "source": [
    "def wishMe():\n",
    "    hour = int(datetime.datetime.now().hour)\n",
    "    if hour>=0 and hour<12:\n",
    "        speak(\"좋은 아침입니다.\")\n",
    "    elif hour>=12 and hour<18:\n",
    "        speak(\"좋은 점심입니다.\")   \n",
    "    else:\n",
    "        speak(\"저녁입니다.\")  \n",
    "    speak(\"안녕하세요 제가 무엇을 도와드릴 수 있을까요?\")"
   ]
  },
  {
   "cell_type": "code",
   "execution_count": 101,
   "metadata": {},
   "outputs": [
    {
     "name": "stdout",
     "output_type": "stream",
     "text": [
      "Listening...\n",
      "Recognizing...\n",
      "User said: 위키피디아 위키피디아\n",
      "\n",
      "Listening...\n",
      "Recognizing...\n",
      "User said: 박지성\n",
      "\n",
      "Park Ji-sung (Korean: 박지성; Hanja: 朴智星; Korean pronunciation: [pak̚.t͈ɕi.sʌŋ]; born 25 February 1981) is a South Korean former professional footballer who played as a midfielder.\n",
      "Listening...\n",
      "Recognizing...\n",
      "User said: 종료 하지마\n",
      "\n"
     ]
    }
   ],
   "source": [
    "\n",
    "wishMe()\n",
    "while True:\n",
    "    query = speechToText().lower()\n",
    "    if '위키' in query:  #if wikipedia found in the query then this block will be executed\n",
    "        speak('검색내용을 말해주세요')\n",
    "        keyword = speechToText().lower()\n",
    "        speak('위키피디아 검색중')\n",
    "        #webbrowser.open('http://wikipedia.com')  # Go to example.com\n",
    "\n",
    "        \n",
    "        results = wikipedia.summary(keyword, sentences=1) \n",
    "        speak(\"위키피디아에 의하면\")\n",
    "        print(results)\n",
    "        speak(results)\n",
    "    elif '종료' in query:\n",
    "        speak(\"종료합니다.\")\n",
    "        break\n",
    "    elif '유튜브' in query:\n",
    "        webbrowser.open(\"http://youtube.com\")\n",
    "    elif '구글' in query and 'Google' in query:\n",
    "        webbrowser.open(\"https://www.google.co.kr/\")\n",
    "    elif '시간' in query:\n",
    "        strTime = datetime.datetime.now().strftime(\"%H:%M:%S\")    \n",
    "        speak(f\"지금은 {strTime}\")\n",
    "    elif '코드' in query:\n",
    "        codePath = \"/Applications/Visual Studio Code.app\" #that's the code path.\n",
    "        os.system(codePath)\n",
    "    elif '터미널' in query:\n",
    "        codePath = \"/Applications/iTerm.app\" #that's the code path.\n",
    "        os.system(codePath)\n",
    "    elif '안녕' in query:\n",
    "        speak(\"안녕하세요? 이름이 뭐에요?\")\n",
    "        name = speechToText().lower()\n",
    "        speak(\"안녕하세요\" + name + \"님\")"
   ]
  },
  {
   "cell_type": "code",
   "execution_count": 24,
   "metadata": {},
   "outputs": [
    {
     "name": "stdout",
     "output_type": "stream",
     "text": [
      "Listening...\n",
      "\n"
     ]
    }
   ],
   "source": [
    "'''with sr.Microphone() as source:\n",
    "    print(\"say something\")\n",
    "    audio = r.listen(source)\n",
    "    print(\"Time over, thanks\")\n",
    "speech = \"\"\n",
    "speechToText(speech)\n",
    "print(speech)\n",
    "try:\n",
    "    #print(\"Text :  \" + r.recognize_google(audio))\n",
    "    #print(\"Text :  \" + r.recognize_google(audio, language=\"ko-kr\"))\n",
    "    \n",
    "    if \"안녕\" in speech:\n",
    "        speak(\"안녕하세요\")\n",
    "    elif \"종료\" in speech:\n",
    "        speak(\"종료합니다.\")\n",
    "        print(\"종료합니다\")\n",
    "    elif \"너\" in speech and \"이름\" in speech:\n",
    "        speak(\"저의 이름은 나래입니다..\")\n",
    "        print(\"이름 묻기\")\n",
    "    elif \"몇\" in speech and \"시\" in speech:\n",
    "        hour = int(datetime.datetime.now().hour)\n",
    "        speak(\"지금은 바로\" + hour)\n",
    "        print(\"시간 묻기\")\n",
    "    elif \"나\" in speech and \"이름\" in speech:\n",
    "        speak(\"이름을 말해주세요\" )\n",
    "        with sr.Microphone() as source:\n",
    "            print(\"이름 말해주세요\")\n",
    "            name_audio = r.listen(source)\n",
    "            print(\"Time over, thanks\")\n",
    "        print(r.recognize_google(name_audio, language=\"ko-kr\"))\n",
    "        name = r.recognize_google(name_audio, language=\"ko-kr\")\n",
    "        speak(\"안녕하세요?\" + name)\n",
    "    \n",
    "except:\n",
    "    pass'''"
   ]
  },
  {
   "cell_type": "code",
   "execution_count": null,
   "metadata": {},
   "outputs": [],
   "source": []
  }
 ],
 "metadata": {
  "kernelspec": {
   "display_name": "Python 3",
   "language": "python",
   "name": "python3"
  },
  "language_info": {
   "codemirror_mode": {
    "name": "ipython",
    "version": 3
   },
   "file_extension": ".py",
   "mimetype": "text/x-python",
   "name": "python",
   "nbconvert_exporter": "python",
   "pygments_lexer": "ipython3",
   "version": "3.8.3"
  }
 },
 "nbformat": 4,
 "nbformat_minor": 4
}
